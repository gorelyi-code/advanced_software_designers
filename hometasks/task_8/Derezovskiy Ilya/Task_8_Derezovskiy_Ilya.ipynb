{
 "cells": [
  {
   "cell_type": "markdown",
   "id": "32a33cf9",
   "metadata": {},
   "source": [
    "# Problem A. Key Word in Context (KWIC)\n",
    "\n",
    "## Method 1. Abstract Data Types"
   ]
  },
  {
   "cell_type": "code",
   "execution_count": 13,
   "id": "83cfbda8",
   "metadata": {},
   "outputs": [],
   "source": [
    "class KWICindex:\n",
    "    \"\"\"The main class of the KWIC index system which handle the text input (titles),\n",
    "    process the text, and generate a KWIC index.\n",
    "\n",
    "    Attributes:\n",
    "        titles      A list to hold titles for processing.\n",
    "        stop_words  A set of stop words that should be excluded from indexing.\n",
    "    \"\"\"\n",
    "    def __init__(self, stop_words=None):\n",
    "        self.titles = []\n",
    "        self.stop_words = stop_words or {\"and\", \"is\", \"the\", \"an\", \"in\", \"on\", \"for\", \"of\", \"to\"}\n",
    "    \n",
    "    # Adds a title to the titles list for processing.\n",
    "    def add_title(self, title):\n",
    "        self.titles.append(Title(title))\n",
    "    \n",
    "    # Processes each title to create the KWIC index and returns a list of formatted KWIC lines.\n",
    "    def generate_index(self):\n",
    "        indexes = []\n",
    "        for title in self.titles:\n",
    "            title.prepare_words(self.stop_words)\n",
    "            for line in title.generate_kwic_lines():\n",
    "                indexes.append(line.format_line())\n",
    "        return sorted(indexes)\n",
    "    \n",
    "    # Outputs the KWIC index in a human-readable format.\n",
    "    def display_index(self):\n",
    "        for index in self.generate_index():\n",
    "            print(index)\n",
    "\n",
    "class Title:\n",
    "    \"\"\"Title class is responsible for storing, cleaning up and preparing the text for KWIC indexing.\n",
    "\n",
    "    Attributes:\n",
    "        text    The raw title text.\n",
    "        words   A list of words in the title after filtering out stop words.\n",
    "    \"\"\"\n",
    "    def __init__(self, text):\n",
    "        self.text = text\n",
    "        self.words = []\n",
    "    \n",
    "    # Filters the words in text, excluding any stop words and splitting it into a list of individual words.\n",
    "    def prepare_words(self, stop_words):\n",
    "        punc = '''!()-[]{};:'\"\\,<>./?@#$%^&*_~'''\n",
    "        for word in self.text:\n",
    "            if word in punc:\n",
    "                self.text = self.text.replace(word, \"\")\n",
    "        self.words = [word for word in self.text.split() if word.lower() not in stop_words]\n",
    "    \n",
    "    # Generates and returns the KWIC lines for each keyword in the title, showing each keyword in context.\n",
    "    def generate_kwic_lines(self):\n",
    "        kwic_lines = []\n",
    "        for position, keyword in enumerate(self.words):\n",
    "            kwic_lines.append(KWICLine(keyword, self.words, position))\n",
    "        return kwic_lines\n",
    "\n",
    "class KWICLine:\n",
    "    \"\"\"KWICLine class represents a single line in the KWIC index, with a focus keyword and its context from the title.\n",
    "\n",
    "    Attributes:\n",
    "        keyword             The main keyword in the line.\n",
    "        context             The surrounding context of the keyword in the title.\n",
    "        original_position   The index of the keyword in the title to allow correct alignment.\n",
    "    \"\"\"\n",
    "    def __init__(self, keyword, context_words, position):\n",
    "        self.keyword = keyword\n",
    "        self.context = context_words\n",
    "        self.original_position = position\n",
    "    \n",
    "    # Returns a formatted string representation of the KWIC line, with the keyword aligned in context.\n",
    "    def format_line(self):\n",
    "        context = \" \".join(self.context)\n",
    "        formatted_line = f\"{self.keyword.upper():<15} | {context}\"\n",
    "        return formatted_line\n"
   ]
  },
  {
   "cell_type": "code",
   "execution_count": 14,
   "id": "558a851b",
   "metadata": {},
   "outputs": [
    {
     "name": "stdout",
     "output_type": "stream",
     "text": [
      "ACRONYM         | KWIC acronym Key Word Context most common format concordance lines\n",
      "COMMON          | KWIC acronym Key Word Context most common format concordance lines\n",
      "CONCORDANCE     | KWIC acronym Key Word Context most common format concordance lines\n",
      "CONTEXT         | KWIC acronym Key Word Context most common format concordance lines\n",
      "ENCYCLOPEDIA    | Wikipedia free encyclopedia\n",
      "FORMAT          | KWIC acronym Key Word Context most common format concordance lines\n",
      "FREE            | Wikipedia free encyclopedia\n",
      "KEY             | KWIC acronym Key Word Context most common format concordance lines\n",
      "KWIC            | KWIC acronym Key Word Context most common format concordance lines\n",
      "LINES           | KWIC acronym Key Word Context most common format concordance lines\n",
      "MOST            | KWIC acronym Key Word Context most common format concordance lines\n",
      "WIKIPEDIA       | Wikipedia free encyclopedia\n",
      "WORD            | KWIC acronym Key Word Context most common format concordance lines\n"
     ]
    }
   ],
   "source": [
    "kwic_index = KWICindex()\n",
    "kwic_index.add_title(\"KWIC is an acronym for Key Word In Context, the most common format for concordance lines!\")\n",
    "kwic_index.add_title(\"Wikipedia, the free encyclopedia.\")\n",
    "kwic_index.display_index()\n"
   ]
  },
  {
   "cell_type": "markdown",
   "id": "c4ec8f3c",
   "metadata": {},
   "source": [
    "# Problem B. Eight Queens (8Q)\n",
    "\n",
    "## Method 2. Main/Subroutine with stepwise refinement (also Shared Data)"
   ]
  },
  {
   "cell_type": "code",
   "execution_count": 20,
   "id": "5d2b450c",
   "metadata": {},
   "outputs": [],
   "source": [
    "def solve_n_queens(n):\n",
    "    \"\"\"The main routine initializes the board and starts the solving process\"\"\"\n",
    "    board = [['.' for i in range(n)] for i in range(n)]  # Initialize the chessboard.\n",
    "    \n",
    "    if not solve_task(board, 0):\n",
    "        print(\"Solution does not exist!\") # Handles the case where no solution exists.\n",
    "    else:\n",
    "        print_board(board)\n",
    "\n",
    "def solve_task(board, column):\n",
    "    \"\"\"Recursive function attempts to place queens in each row of the specified column\"\"\"\n",
    "    if column >= len(board):\n",
    "        return True  # All queens are placed successfully.\n",
    "\n",
    "    for i in range(len(board)):\n",
    "        if is_safe(board, i, column):\n",
    "            board[i][column] = 'Q'  # Place queen.\n",
    "            \n",
    "            if solve_task(board, column + 1):  # Recur to place rest of the queens.\n",
    "                return True\n",
    "            \n",
    "            board[i][column] = '.'  # Backtrack.\n",
    "\n",
    "    return False  # Trigger backtracking.\n",
    "\n",
    "def is_safe(board, row, column):\n",
    "    \"\"\"Check if a queen can be placed on cell\"\"\"\n",
    "    # Check this row on left side.\n",
    "    for i in range(column):\n",
    "        if board[row][i] == 'Q':\n",
    "            return False\n",
    "\n",
    "    # Check upper diagonal on left side.\n",
    "    for i, j in zip(range(row, -1, -1), range(column, -1, -1)):\n",
    "        if board[i][j] == 'Q':\n",
    "            return False\n",
    "\n",
    "    # Check lower diagonal on left side.\n",
    "    for i, j in zip(range(row, len(board)), range(column, -1, -1)):\n",
    "        if board[i][j] == 'Q':\n",
    "            return False\n",
    "\n",
    "    return True\n",
    "\n",
    "def print_board(board):\n",
    "    \"\"\"Print the chessboard\"\"\"\n",
    "    for row in board:\n",
    "        print(\" \".join(row))"
   ]
  },
  {
   "cell_type": "code",
   "execution_count": 21,
   "id": "d39f61dc",
   "metadata": {},
   "outputs": [
    {
     "name": "stdout",
     "output_type": "stream",
     "text": [
      "Q . . . . . . .\n",
      ". . . . . . Q .\n",
      ". . . . Q . . .\n",
      ". . . . . . . Q\n",
      ". Q . . . . . .\n",
      ". . . Q . . . .\n",
      ". . . . . Q . .\n",
      ". . Q . . . . .\n"
     ]
    }
   ],
   "source": [
    "n = 8\n",
    "solve_n_queens(n)"
   ]
  },
  {
   "cell_type": "code",
   "execution_count": null,
   "id": "fb8aa65a",
   "metadata": {},
   "outputs": [],
   "source": []
  }
 ],
 "metadata": {
  "kernelspec": {
   "display_name": "Python 3 (ipykernel)",
   "language": "python",
   "name": "python3"
  },
  "language_info": {
   "codemirror_mode": {
    "name": "ipython",
    "version": 3
   },
   "file_extension": ".py",
   "mimetype": "text/x-python",
   "name": "python",
   "nbconvert_exporter": "python",
   "pygments_lexer": "ipython3",
   "version": "3.8.8"
  }
 },
 "nbformat": 4,
 "nbformat_minor": 5
}
